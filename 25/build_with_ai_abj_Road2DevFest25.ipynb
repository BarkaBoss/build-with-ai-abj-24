{
 "cells": [
  {
   "cell_type": "markdown",
   "source": [
    "## Welcome to DevFest Abuja 2024\n",
    "<img src=\"../img_md/cover.jpg\">\n",
    "\n",
    ">Build with AI is a hands-on event with the goal of launching our community members into AI adoption as solutions to technical and non-technical problems.\n",
    "\n",
    "In this codelab session we will be introducing Google Gemini using python.\n",
    "\n",
    "### What is Google Gemini AI\n",
    ">Google Gemini AI is a multi-modal AI platform that combines text, code, images, and audio to enable developers to build applications with enhanced intelligence.\n",
    "\n",
    "**In summary, it allows developers inject intelligence into their applications**"
   ],
   "metadata": {
    "collapsed": false
   }
  },
  {
   "cell_type": "markdown",
   "source": [
    "## Getting things ready for our AI soup\n",
    ">Now that we know what Gemini is, how do we use it?\n",
    "Well... first we need to get the necessary ingredients for our AI soup.\n",
    "\n",
    "### Make sure you have python installed\n",
    "\n",
    ">Python is a programming language that lets you work more quickly and integrate your systems more effectively.\n",
    "### Get your API key\n",
    ">The first thing we need for our AI soup is to get an API key from [Get API Key](https://aistudio.google.com/)\n",
    "Create the key and copy the key and keep it safe. **Like all KEYS keep it super safe and private don't share it** you might need to create a project.\n",
    "\n",
    "\n",
    "<img src=\"../img_md/key.png\">\n",
    "\n",
    "\n",
    "This 👆 is not secure enough by the way\n",
    "\n",
    "Let's keep things clean by creating a virtual environment and installing the necessary packages.\n",
    "1. Open VS Code and create/open the folder you want to use for this codelab.\n",
    "2. Create a virtual environment using Ctrl+Shift+P and select **Python: Create Virtual Environment**\n",
    "3. Activate the virtual environment using **.\\env\\Scripts\\activate**\n",
    "Building in Python programming language, we need to install the following packages using **pip install**\n",
    "\n",
    "1. **pip install -U google-genai** : facilitates communication between your code and Google Gemini, allows you to query and receive responses from the Gemini API\n",
    "2. **pip install pillow**\n",
    "\n",
    "### Install them at once\n",
    "pip install google-genai pillow"
   ],
   "metadata": {
    "collapsed": false
   }
  },
  {
   "cell_type": "markdown",
   "source": [
    "### Start your Engines\n",
    "<img src=\"../img_md/engine.png\" width=\"600\">\n",
    "\n",
    "Within the VS code project,\n",
    "1. Create a python project or python file \"gem.py\"\n",
    "2. Open the file and enter the following piece of code to import our libraries"
   ],
   "metadata": {
    "collapsed": false
   }
  },
  {
   "cell_type": "markdown",
   "source": [
    "## Import the necessary libraries"
   ],
   "metadata": {
    "collapsed": false
   }
  },
  {
   "cell_type": "code",
   "source": [
    "import os\n",
    "from google import genai"
   ],
   "metadata": {
    "collapsed": false
   },
   "outputs": [],
   "execution_count": null
  },
  {
   "cell_type": "markdown",
   "source": [
    "## Configure Access to Gemini API"
   ],
   "metadata": {
    "collapsed": false
   }
  },
  {
   "cell_type": "code",
   "source": [
    "os.environ['GOOGLE_API_KEY'] = 'Your API key here'\n",
    "client = genai.Client(api_key=os.environ['GOOGLE_API_KEY'])"
   ],
   "metadata": {
    "collapsed": false
   },
   "outputs": [],
   "execution_count": null
  },
  {
   "cell_type": "markdown",
   "source": [
    "## Query your model"
   ],
   "metadata": {
    "collapsed": false
   }
  },
  {
   "cell_type": "code",
   "source": [
    "response = client.models.generate_content(\n",
    "    model=\"gemini-2.5-flash\",\n",
    "    contents=\"Write a short story about why the chicken crossed the road.\",\n",
    ")\n",
    "\n",
    "print(response.text)"
   ],
   "metadata": {
    "collapsed": false
   },
   "outputs": [],
   "execution_count": null
  },
  {
   "cell_type": "markdown",
   "source": "## Image Generation",
   "metadata": {
    "collapsed": false
   }
  },
  {
   "metadata": {},
   "cell_type": "markdown",
   "source": [
    "Create a file gem_image_gen.py\n",
    "Then add the following code"
   ]
  },
  {
   "metadata": {},
   "cell_type": "markdown",
   "source": "### Import the necessary libraries"
  },
  {
   "metadata": {},
   "cell_type": "code",
   "outputs": [],
   "execution_count": null,
   "source": [
    "import os\n",
    "from google import genai\n",
    "from google.genai import types\n",
    "from PIL import Image\n",
    "from io import BytesIO\n",
    "import base64"
   ]
  },
  {
   "cell_type": "markdown",
   "source": "### Configure Gemini with your API key (Again)",
   "metadata": {
    "collapsed": false
   }
  },
  {
   "metadata": {},
   "cell_type": "code",
   "outputs": [],
   "execution_count": null,
   "source": [
    "os.environ['GOOGLE_API_KEY'] = 'Your API key here'\n",
    "client = genai.Client(api_key=os.environ['GOOGLE_API_KEY'])"
   ]
  },
  {
   "cell_type": "code",
   "source": [
    "contents = ('Hello, can you create an image of akara '\n",
    "            'in a glass bowl with a lid, '\n",
    "            'on table?')\n",
    "\n",
    "response = client.models.generate_content(\n",
    "    model=\"gemini-2.0-flash-preview-image-generation\",\n",
    "    contents=contents,\n",
    "    config=types.GenerateContentConfig(\n",
    "      response_modalities=['TEXT', 'IMAGE']\n",
    "    )\n",
    ")\n"
   ],
   "metadata": {
    "collapsed": false
   },
   "outputs": [],
   "execution_count": null
  },
  {
   "metadata": {},
   "cell_type": "markdown",
   "source": "## Save image"
  },
  {
   "metadata": {},
   "cell_type": "code",
   "outputs": [],
   "execution_count": null,
   "source": [
    "for part in response.candidates[0].content.parts:\n",
    "  if part.text is not None:\n",
    "    print(part.text)\n",
    "  elif part.inline_data is not None:\n",
    "    image = Image.open(BytesIO((part.inline_data.data)))\n",
    "    image.save('gemini-gen-image.png')\n",
    "    image.show()"
   ]
  }
 ],
 "metadata": {
  "kernelspec": {
   "display_name": "Python 3",
   "language": "python",
   "name": "python3"
  },
  "language_info": {
   "codemirror_mode": {
    "name": "ipython",
    "version": 2
   },
   "file_extension": ".py",
   "mimetype": "text/x-python",
   "name": "python",
   "nbconvert_exporter": "python",
   "pygments_lexer": "ipython2",
   "version": "2.7.6"
  }
 },
 "nbformat": 4,
 "nbformat_minor": 0
}
