{
 "cells": [
  {
   "cell_type": "markdown",
   "source": [
    "## Welcome to Build with AI GDG Abuja\n",
    "<img src=\"img_md/cover.jpg\">\n",
    "\n",
    "Build with AI is a hands-on event with the goal of launching our community members into AI adoption as solutions to technical and non-technical problems.\n",
    "\n",
    "In this codelab session we will be introducing Google Gemini using python.\n",
    "\n",
    "### What is Google Gemini AI\n",
    "Google Gemini AI is a multi-modal AI platform that combines text, code, images, and audio to enable developers to build applications with enhanced intelligence.\n",
    "\n",
    "**In summary, it allows developers inject intelligence into their applications**"
   ],
   "metadata": {
    "collapsed": false
   }
  },
  {
   "cell_type": "markdown",
   "source": [
    "## Getting things ready for our AI soup\n",
    "Now that we know what Gemini is, how do we use it?\n",
    "Well... first we need to get the necessary ingredients for our AI soup.\n",
    "\n",
    "### Get your API key\n",
    "The first thing we need for our AI soup is to get an API key from [Get API Key](https://makersuite.google.com/app/apikey)\n",
    "Create the key and copy key it safe. **Like all KEYS keep it super safe and private don't share it**\n",
    "\n",
    "\n",
    "<img src=\"img_md/key.png\">\n",
    "\n",
    "\n",
    "This :point_up: is not secure enough by the way\n",
    "\n",
    "Building in Python programming language we need to install the following packages using **pip install**\n",
    "\n",
    "1. **pip install google-generativeai** : facilitates communication between your code and Google Gemini, allows you to query and receive responses from the Gemini API\n",
    "2. **pip install langchain-google-genai** : LangChain is framework designed to allow easy integration of large language models into applications and in this case we are using the package tailored for Gemini.\n",
    "3. **pip install streamlit** : :no_mouth:\n",
    "\n",
    "### Install them at once\n",
    "pip install google-generativeai langchain-google-genai streamlit"
   ],
   "metadata": {
    "collapsed": false
   }
  },
  {
   "cell_type": "markdown",
   "source": [
    "###"
   ],
   "metadata": {
    "collapsed": false
   }
  },
  {
   "cell_type": "code",
   "execution_count": null,
   "outputs": [],
   "source": [
    "import os\n",
    "import google.generativeai as genai"
   ],
   "metadata": {
    "collapsed": false
   }
  }
 ],
 "metadata": {
  "kernelspec": {
   "display_name": "Python 3",
   "language": "python",
   "name": "python3"
  },
  "language_info": {
   "codemirror_mode": {
    "name": "ipython",
    "version": 2
   },
   "file_extension": ".py",
   "mimetype": "text/x-python",
   "name": "python",
   "nbconvert_exporter": "python",
   "pygments_lexer": "ipython2",
   "version": "2.7.6"
  }
 },
 "nbformat": 4,
 "nbformat_minor": 0
}
