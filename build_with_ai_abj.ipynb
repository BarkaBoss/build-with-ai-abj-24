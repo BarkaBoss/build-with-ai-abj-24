{
 "cells": [
  {
   "cell_type": "markdown",
   "source": [
    "## Welcome to Build with AI GDG Abuja\n",
    "<img src=\"img_md/cover.jpg\">\n",
    "\n",
    ">Build with AI is a hands-on event with the goal of launching our community members into AI adoption as solutions to technical and non-technical problems.\n",
    "\n",
    "In this codelab session we will be introducing Google Gemini using python.\n",
    "\n",
    "### What is Google Gemini AI\n",
    ">Google Gemini AI is a multi-modal AI platform that combines text, code, images, and audio to enable developers to build applications with enhanced intelligence.\n",
    "\n",
    "**In summary, it allows developers inject intelligence into their applications**"
   ],
   "metadata": {
    "collapsed": false
   }
  },
  {
   "cell_type": "markdown",
   "source": [
    "## Getting things ready for our AI soup\n",
    ">Now that we know what Gemini is, how do we use it?\n",
    "Well... first we need to get the necessary ingredients for our AI soup.\n",
    "\n",
    "### Get your API key\n",
    ">The first thing we need for our AI soup is to get an API key from [Get API Key](https://makersuite.google.com/app/apikey)\n",
    "Create the key and copy key it safe. **Like all KEYS keep it super safe and private don't share it**\n",
    "\n",
    "\n",
    "<img src=\"img_md/key.png\">\n",
    "\n",
    "\n",
    "This 👆 is not secure enough by the way\n",
    "\n",
    "Building in Python programming language we need to install the following packages using **pip install**\n",
    "\n",
    "1. **pip install google-generativeai** : facilitates communication between your code and Google Gemini, allows you to query and receive responses from the Gemini API\n",
    "2. **pip install langchain-google-genai** : LangChain is framework designed to allow easy integration of large language models into applications and in this case we are using the package tailored for Gemini.\n",
    "3. **pip install streamlit** : :no_mouth:\n",
    "\n",
    "### Install them at once\n",
    "pip install google-generativeai langchain-google-genai streamlit"
   ],
   "metadata": {
    "collapsed": false
   }
  },
  {
   "cell_type": "markdown",
   "source": [
    "### Start your IDEs\n",
    "<img src=\"img_md/engine.png\" width=\"600\">\n",
    "\n",
    "Start you favourite python IDE and get to coding.\n",
    "1. Create a python project or python file \"gem.py\"\n",
    "2. Open the file and enter the following piece of code to import our libraries"
   ],
   "metadata": {
    "collapsed": false
   }
  },
  {
   "cell_type": "markdown",
   "source": [
    "## Import the necessary libraries"
   ],
   "metadata": {
    "collapsed": false
   }
  },
  {
   "cell_type": "code",
   "execution_count": 1,
   "outputs": [],
   "source": [
    "import os\n",
    "import google.generativeai as genai"
   ],
   "metadata": {
    "collapsed": false
   }
  },
  {
   "cell_type": "markdown",
   "source": [
    "## Configure Access to Gemini API"
   ],
   "metadata": {
    "collapsed": false
   }
  },
  {
   "cell_type": "code",
   "execution_count": 2,
   "outputs": [],
   "source": [
    "os.environ['GOOGLE_API_KEY'] = \"Paste your super secret API here\"\n",
    "genai.configure(api_key=os.environ['GOOGLE_API_KEY'])"
   ],
   "metadata": {
    "collapsed": false
   }
  },
  {
   "cell_type": "markdown",
   "source": [
    "## Get a list of Models"
   ],
   "metadata": {
    "collapsed": false
   }
  },
  {
   "cell_type": "code",
   "execution_count": 3,
   "outputs": [
    {
     "name": "stdout",
     "output_type": "stream",
     "text": [
      "models/gemini-1.0-pro\n",
      "models/gemini-1.0-pro-001\n",
      "models/gemini-1.0-pro-latest\n",
      "models/gemini-1.0-pro-vision-latest\n",
      "models/gemini-pro\n",
      "models/gemini-pro-vision\n"
     ]
    }
   ],
   "source": [
    "for models in genai.list_models():\n",
    "    if 'generateContent' in models.supported_generation_methods:\n",
    "        print(models.name)"
   ],
   "metadata": {
    "collapsed": false
   }
  },
  {
   "cell_type": "markdown",
   "source": [
    "## Select Gemini Pro"
   ],
   "metadata": {
    "collapsed": false
   }
  },
  {
   "cell_type": "code",
   "execution_count": 4,
   "outputs": [],
   "source": [
    "model = genai.GenerativeModel('gemini-pro')"
   ],
   "metadata": {
    "collapsed": false
   }
  },
  {
   "cell_type": "markdown",
   "source": [
    "## Query your model"
   ],
   "metadata": {
    "collapsed": false
   }
  },
  {
   "cell_type": "code",
   "execution_count": 5,
   "outputs": [
    {
     "name": "stdout",
     "output_type": "stream",
     "text": [
      "================\n",
      "================\n",
      "The meaning of life is a highly subjective question that has been debated by philosophers, scientists, and religious leaders for centuries. There is no one definitive answer that is universally accepted, and the meaning of life may vary significantly from person to person.\n",
      "\n",
      "Some common perspectives on the meaning of life include:\n",
      "\n",
      "* **Purpose-driven:** This view suggests that life has a specific purpose or goal, such as achieving happiness, making a difference in the world, or fulfilling one's destiny.\n",
      "* **Experiential:** This view emphasizes the importance of living life to the fullest and experiencing a wide range of emotions, sensations, and adventures.\n",
      "* **Connection:** This view focuses on the importance of relationships and connections with others, including family, friends, and community.\n",
      "* **Growth and Development:** This view suggests that the meaning of life lies in personal growth, learning, and self-improvement.\n",
      "* **Service to Others:** This view emphasizes the importance of contributing to the well-being of others and making a positive impact on the world.\n",
      "* **Spiritual:** This view suggests that the meaning of life is connected to spirituality, religion, or a higher power.\n",
      "* **Subjective:** This view recognizes that the meaning of life is unique to each individual and is shaped by their own experiences, beliefs, and values.\n",
      "\n",
      "Ultimately, the meaning of life is a personal journey that each individual must explore for themselves. There is no right or wrong answer, and the meaning of life may change and evolve over time. However, by reflecting on our own values, experiences, and aspirations, we can strive to live a life that is meaningful and fulfilling to us.\n"
     ]
    }
   ],
   "source": [
    "print(\"================\")\n",
    "question = input(\"Ask me a question\\n\")\n",
    "print(\"================\")\n",
    "response = model.generate_content(question)\n",
    "\n",
    "print(response.text)"
   ],
   "metadata": {
    "collapsed": false
   }
  },
  {
   "cell_type": "code",
   "execution_count": null,
   "outputs": [],
   "source": [],
   "metadata": {
    "collapsed": false
   }
  }
 ],
 "metadata": {
  "kernelspec": {
   "display_name": "Python 3",
   "language": "python",
   "name": "python3"
  },
  "language_info": {
   "codemirror_mode": {
    "name": "ipython",
    "version": 2
   },
   "file_extension": ".py",
   "mimetype": "text/x-python",
   "name": "python",
   "nbconvert_exporter": "python",
   "pygments_lexer": "ipython2",
   "version": "2.7.6"
  }
 },
 "nbformat": 4,
 "nbformat_minor": 0
}
